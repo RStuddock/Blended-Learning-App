{
 "cells": [
  {
   "cell_type": "code",
   "execution_count": 23,
   "metadata": {},
   "outputs": [],
   "source": [
    "from webbot import Browser\n",
    "\n",
    "fName = 'Robert'\n",
    "lName = 'Studdock'\n",
    "email = 'robertstuddock@hotmail.com'\n",
    "password = 'simplepassword123'"
   ]
  },
  {
   "cell_type": "code",
   "execution_count": 26,
   "metadata": {},
   "outputs": [],
   "source": [
    "from webbot import Browser\n",
    "web = Browser()\n",
    "web.go_to('https://www.coursera.org/?authMode=signup')"
   ]
  },
  {
   "cell_type": "code",
   "execution_count": 25,
   "metadata": {},
   "outputs": [],
   "source": [
    "web.type(fName + ' ' + lName, id='nameInput-input')\n",
    "web.type(email, id='emailInput-input')\n",
    "web.type(password, id='passwordInput-input')\n",
    "web.click('Join for Free', tag='span')\n"
   ]
  }
 ],
 "metadata": {
  "kernelspec": {
   "display_name": "Python 3",
   "language": "python",
   "name": "python3"
  },
  "language_info": {
   "codemirror_mode": {
    "name": "ipython",
    "version": 3
   },
   "file_extension": ".py",
   "mimetype": "text/x-python",
   "name": "python",
   "nbconvert_exporter": "python",
   "pygments_lexer": "ipython3",
   "version": "3.6.4"
  }
 },
 "nbformat": 4,
 "nbformat_minor": 2
}
